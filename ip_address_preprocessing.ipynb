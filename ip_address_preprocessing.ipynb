{
 "cells": [
  {
   "cell_type": "markdown",
   "metadata": {},
   "source": [
    "1. Download the data from [IP2Location](https://lite.ip2location.com/database/db11-ip-country-region-city-latitude-longitude-zipcode-timezone)"
   ]
  },
  {
   "cell_type": "code",
   "execution_count": 20,
   "metadata": {},
   "outputs": [],
   "source": [
    "import polars as pl\n",
    "from ipaddress import IPv4Address\n",
    "\n",
    "ip2_location_path = 'IP2LOCATION-LITE-DB11.CSV'\n",
    "\n",
    "column_names = [\n",
    "    'ip_from',\n",
    "    'ip_to',\n",
    "    'country_code',\n",
    "    'country_name',\n",
    "    'region_name',\n",
    "    'city_name',\n",
    "    'latitude',\n",
    "    'longitude',\n",
    "    'zip_code',\n",
    "    'timezone'\n",
    "]\n",
    "\n",
    "pl.scan_csv(ip2_location_path, has_header=False, low_memory=True, new_columns=column_names)\\\n",
    "    .collect()\\\n",
    "    .write_parquet(\"ip2_locations.parquet\", compression=\"gzip\")\n"
   ]
  }
 ],
 "metadata": {
  "kernelspec": {
   "display_name": "sec_edgar",
   "language": "python",
   "name": "python3"
  },
  "language_info": {
   "codemirror_mode": {
    "name": "ipython",
    "version": 3
   },
   "file_extension": ".py",
   "mimetype": "text/x-python",
   "name": "python",
   "nbconvert_exporter": "python",
   "pygments_lexer": "ipython3",
   "version": "3.12.9"
  }
 },
 "nbformat": 4,
 "nbformat_minor": 2
}
